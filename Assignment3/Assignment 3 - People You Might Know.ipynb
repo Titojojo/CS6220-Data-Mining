{
  "cells": [
    {
      "cell_type": "markdown",
      "metadata": {
        "id": "kPt5q27L5557"
      },
      "source": [
        "# Homework 3\n",
        "\n",
        "Submit your *.ipynb through Gradescope by downloading: `File` ⇒ `Download` ⇒ `Download .ipynb`, and then submit with your PDF via link to your repository."
      ]
    },
    {
      "cell_type": "markdown",
      "metadata": {
        "id": "p0-YhEpP_Ds-"
      },
      "source": [
        "### Setup"
      ]
    },
    {
      "cell_type": "code",
      "execution_count": 1,
      "metadata": {
        "colab": {
          "base_uri": "https://localhost:8080/"
        },
        "id": "k-qHai2252mI",
        "outputId": "d611973e-348f-4a1e-b52a-54d6a142e53c"
      },
      "outputs": [
        {
          "output_type": "stream",
          "name": "stdout",
          "text": [
            "Requirement already satisfied: pyspark in /usr/local/lib/python3.10/dist-packages (3.5.0)\n",
            "Requirement already satisfied: py4j==0.10.9.7 in /usr/local/lib/python3.10/dist-packages (from pyspark) (0.10.9.7)\n",
            "openjdk-8-jdk-headless is already the newest version (8u392-ga-1~22.04).\n",
            "0 upgraded, 0 newly installed, 0 to remove and 32 not upgraded.\n"
          ]
        }
      ],
      "source": [
        "!pip install pyspark\n",
        "!pip install -U -q PyDrive\n",
        "!apt install openjdk-8-jdk-headless -qq\n",
        "import os\n",
        "os.environ[\"JAVA_HOME\"] = \"/usr/lib/jvm/java-8-openjdk-amd64\""
      ]
    },
    {
      "cell_type": "code",
      "source": [
        "#@title Import PySpark and create SparkContext\n",
        "\n",
        "import itertools\n",
        "import pyspark\n",
        "from pyspark.sql import *\n",
        "from pyspark.sql.functions import *\n",
        "from pyspark import SparkContext, SparkConf\n",
        "import os\n",
        "os.environ[\"JAVA_HOME\"] = \"/usr/lib/jvm/java-8-openjdk-amd64\"\n",
        "\n",
        "# create the session\n",
        "conf = SparkConf().set(\"spark.ui.port\", \"4050\")\n",
        "\n",
        "# create the context\n",
        "sc = pyspark.SparkContext(conf=conf)\n",
        "spark = SparkSession.builder.getOrCreate()"
      ],
      "metadata": {
        "id": "KBAOtmroKCqG"
      },
      "execution_count": 1,
      "outputs": []
    },
    {
      "cell_type": "markdown",
      "source": [
        "### Mount Google Drive"
      ],
      "metadata": {
        "id": "_Qdjf5ygnN3Y"
      }
    },
    {
      "cell_type": "code",
      "source": [
        "# mount drive\n",
        "from google.colab import drive\n",
        "drive.mount('/content/drive')"
      ],
      "metadata": {
        "colab": {
          "base_uri": "https://localhost:8080/"
        },
        "id": "vK-4_5FxmwXI",
        "outputId": "2b737ca8-4903-4841-d792-2900a4644531"
      },
      "execution_count": 2,
      "outputs": [
        {
          "output_type": "stream",
          "name": "stdout",
          "text": [
            "Drive already mounted at /content/drive; to attempt to forcibly remount, call drive.mount(\"/content/drive\", force_remount=True).\n"
          ]
        }
      ]
    },
    {
      "cell_type": "code",
      "source": [
        "#@title Download the data from the course website\n",
        "!wget https://course.ccs.neu.edu/cs6220/fall2023/homework-3/soc-LiveJournal1Adj.txt"
      ],
      "metadata": {
        "colab": {
          "base_uri": "https://localhost:8080/"
        },
        "id": "18LWrPEMKCIW",
        "outputId": "cc5fa7be-3efb-4b16-96a0-40735f6e1cba"
      },
      "execution_count": 3,
      "outputs": [
        {
          "output_type": "stream",
          "name": "stdout",
          "text": [
            "--2024-02-08 21:35:30--  https://course.ccs.neu.edu/cs6220/fall2023/homework-3/soc-LiveJournal1Adj.txt\n",
            "Resolving course.ccs.neu.edu (course.ccs.neu.edu)... 129.10.117.35\n",
            "Connecting to course.ccs.neu.edu (course.ccs.neu.edu)|129.10.117.35|:443... connected.\n",
            "HTTP request sent, awaiting response... 200 OK\n",
            "Length: 4156181 (4.0M) [text/plain]\n",
            "Saving to: ‘soc-LiveJournal1Adj.txt.6’\n",
            "\n",
            "soc-LiveJournal1Adj 100%[===================>]   3.96M  20.8MB/s    in 0.2s    \n",
            "\n",
            "2024-02-08 21:35:30 (20.8 MB/s) - ‘soc-LiveJournal1Adj.txt.6’ saved [4156181/4156181]\n",
            "\n"
          ]
        }
      ]
    },
    {
      "cell_type": "markdown",
      "source": [
        "### Load the data in!"
      ],
      "metadata": {
        "id": "3TA8JoRuJEmS"
      }
    },
    {
      "cell_type": "code",
      "source": [
        "# [0] Read the data in\n",
        "lines = sc.textFile(\"soc-LiveJournal1Adj.txt\", 1)\n",
        "lines = lines.map(lambda line: line.split())"
      ],
      "metadata": {
        "id": "cdLH8ltnJEHA"
      },
      "execution_count": 4,
      "outputs": []
    },
    {
      "cell_type": "code",
      "source": [
        "lines.take(2)"
      ],
      "metadata": {
        "colab": {
          "base_uri": "https://localhost:8080/"
        },
        "id": "huCITf4Dovf5",
        "outputId": "77da73e3-a63a-4470-9a3c-061ebc3284e1"
      },
      "execution_count": 5,
      "outputs": [
        {
          "output_type": "execute_result",
          "data": {
            "text/plain": [
              "[['0',\n",
              "  '1,2,3,4,5,6,7,8,9,10,11,12,13,14,15,16,17,18,19,20,21,22,23,24,25,26,27,28,29,30,31,32,33,34,35,36,37,38,39,40,41,42,43,44,45,46,47,48,49,50,51,52,53,54,55,56,57,58,59,60,61,62,63,64,65,66,67,68,69,70,71,72,73,74,75,76,77,78,79,80,81,82,83,84,85,86,87,88,89,90,91,92,93,94'],\n",
              " ['1',\n",
              "  '0,5,20,135,2409,8715,8932,10623,12347,12846,13840,13845,14005,20075,21556,22939,23520,28193,29724,29791,29826,30691,31232,31435,32317,32489,34394,35589,35605,35606,35613,35633,35648,35678,38737,43447,44846,44887,49226,49985,623,629,4999,6156,13912,14248,15190,17636,19217,20074,27536,29481,29726,29767,30257,33060,34250,34280,34392,34406,34418,34420,34439,34450,34651,45054,49592']]"
            ]
          },
          "metadata": {},
          "execution_count": 5
        }
      ]
    },
    {
      "cell_type": "markdown",
      "source": [
        "### Step 1 & 2: Parse input data, create friend pairs"
      ],
      "metadata": {
        "id": "FiXn_Yg5noAC"
      }
    },
    {
      "cell_type": "code",
      "source": [
        "# [Step 1] Parse input data to a list of [user, friends]\n",
        "# [Step 2] Create friend pairs\n",
        "\"\"\"\n",
        "Create friend pairs\n",
        "\n",
        "the result of one friend pair should be\n",
        "((user_id, user_id), number of mutual friend)\n",
        "\n",
        "number of mutual friend:\n",
        "if A and B are potential frients, set this value to 1\n",
        "if A and B are already friends, set this value to -inf\n",
        "\n",
        "for example: A | B, C\n",
        "A & B are friend\n",
        "A & C are friend\n",
        "B & C have one common friend: A\n",
        "C & B have one common friend: A\n",
        "\n",
        "the result should be\n",
        "[([A, B], -inf) , ([A, C], -inf), ([B, C], 1), ([C, B], 1)]\n",
        "\"\"\"\n",
        "\n",
        "def create_friend_pairs(line):\n",
        "\n",
        "  if len(line) < 2:\n",
        "    return []\n",
        "  user, friends = line[0], line[1].split(',')\n",
        "  friend_pairs = []\n",
        "  minimum = float('-inf')\n",
        "  for friend in friends:\n",
        "    friend_pairs.append(((user, friend), minimum))\n",
        "  for i in range(len(friends) - 1):\n",
        "    for j in range(i + 1, len(friends)):\n",
        "      friend_pairs.append(((friends[i], friends[j]), 1))\n",
        "      friend_pairs.append(((friends[j], friends[i]), 1))\n",
        "\n",
        "  return friend_pairs"
      ],
      "metadata": {
        "id": "qXFSz-HLT5V4"
      },
      "execution_count": 6,
      "outputs": []
    },
    {
      "cell_type": "markdown",
      "source": [
        "### Get potential friend pairs"
      ],
      "metadata": {
        "id": "z-I-S4hznxZa"
      }
    },
    {
      "cell_type": "code",
      "source": [
        "# [Step 3] Filter result and get potential friend pairs\n",
        "\"\"\"\n",
        "1. Sum up and reduce:\n",
        "Sum up the number of mutual friend by the same key\n",
        "after the sum up, we could have a list like this:\n",
        "((A, B), -inf))\n",
        "((A, C), 3)\n",
        "((A, D), 8)\n",
        "((B, G), 7)\n",
        "...\n",
        "\n",
        "2. Filter out the negative:\n",
        "Filter out the pairs with negative number of mutual friends.\n",
        "\"\"\"\n",
        "flat_result = lines.flatMap(create_friend_pairs).reduceByKey(lambda x, y : x + y)\n",
        "filtered_result = flat_result.filter(lambda pair : pair[1] > 0)"
      ],
      "metadata": {
        "id": "ixv9nXUlT7MQ"
      },
      "execution_count": 7,
      "outputs": []
    },
    {
      "cell_type": "markdown",
      "source": [
        "### Step 4: Sort result and get the Top N"
      ],
      "metadata": {
        "id": "agq6qCVEn9EI"
      }
    },
    {
      "cell_type": "code",
      "source": [
        "# [Step 4] Sort result and get the top N.\n",
        "# 1. Change data format: (user, friend), count ---> (user, (friend, count))\n",
        "# 2. Group the result by user\n",
        "# 3. Sort each user's reult first by decreasing count, then increasing friend ID.\n",
        "\n",
        "group_result = filtered_result \\\n",
        "                .map(lambda pair : (pair[0][0], (pair[0][1], int(pair[1])))) \\\n",
        "                .groupByKey() \\\n",
        "                .map(lambda pair: (pair[0], sorted(list(pair[1]), key=lambda x: (-x[1], x[0]))[:10]))\n",
        "\n",
        "group_result.lookup('11')"
      ],
      "metadata": {
        "colab": {
          "base_uri": "https://localhost:8080/"
        },
        "id": "Bn4SFbBtUAjp",
        "outputId": "e2091ec6-5065-49db-e1f0-3ebda46a8ef0"
      },
      "execution_count": 8,
      "outputs": [
        {
          "output_type": "execute_result",
          "data": {
            "text/plain": [
              "[[('27552', 4),\n",
              "  ('27573', 3),\n",
              "  ('27574', 3),\n",
              "  ('27589', 3),\n",
              "  ('27590', 3),\n",
              "  ('27600', 3),\n",
              "  ('27617', 3),\n",
              "  ('27620', 3),\n",
              "  ('27667', 3),\n",
              "  ('32072', 3)]]"
            ]
          },
          "metadata": {},
          "execution_count": 8
        }
      ]
    },
    {
      "cell_type": "markdown",
      "source": [
        "### Step 5: Save output"
      ],
      "metadata": {
        "id": "eDJLyuvVoLvs"
      }
    },
    {
      "cell_type": "code",
      "source": [
        "results = group_result.collect()\n",
        "file_path = \"/content/drive/MyDrive/CS6220/output.txt\"\n",
        "\n",
        "with open(file_path, 'w') as f:\n",
        "    for user, recommendations in sorted(results, key=lambda x: int(x[0])):\n",
        "        recommendations_str = ','.join(str(friend) for friend, _ in recommendations)\n",
        "        f.write(f\"{user}\\t{recommendations_str}\\n\")"
      ],
      "metadata": {
        "id": "arVpri3foY2z"
      },
      "execution_count": 14,
      "outputs": []
    }
  ],
  "metadata": {
    "colab": {
      "provenance": []
    },
    "kernelspec": {
      "display_name": "Python 3",
      "name": "python3"
    }
  },
  "nbformat": 4,
  "nbformat_minor": 0
}